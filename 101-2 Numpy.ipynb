{
 "cells": [
  {
   "cell_type": "markdown",
   "metadata": {},
   "source": [
    "Au fil des années Python est devenu un outil du quotidien pour les ingénieurs et chercheurs de toutes les disciplines scientifiques. Grâce à de très nombreuses librairies d'une grande qualité il permet aujourd'hui d'égaler, voire de surpasser des solutions propriétaires les plus performantes du marché. Il est devenu un des outils incontournables des Data Scientists. Nous allons nous intéresser ici à une des bibliothèques Python les plus utilisées : NumPy.\n",
    "\n",
    "NumPy (pour Numerical Python) est une bibliothèque numérique apportant un support efficace pour la création et la manipulation de larges tableaux multidimensionnels, et de routines mathématiques de haut niveau (algèbre linéaire, statistiques, fonctions mathématiques complexes etc...). NumPy a été initialement développée au milieu des années 2000, et est issu d'un package encore plus ancien appelé Numeric. L'ancienneté de cette bibliothèque implique qu'un grand nombre d'analyses de données sur Python exploitent NumPy d'une manière ou d'une autre.\n",
    "\n",
    "Cette formation donne un aperçu des possibilités extrêmement vastes proposées par NumPy. Pour compléter ce module n'hésitez pas à vous référer à la documentation fournie et claire. Tout au long de la formation vous serez systématiquement redirigé vers la documentation pour que vous puissiez vous familiariser avec les différents outils proposés ."
   ]
  },
  {
   "cell_type": "markdown",
   "metadata": {},
   "source": [
    "https://numpy.org/doc/stable/reference/"
   ]
  },
  {
   "cell_type": "markdown",
   "metadata": {},
   "source": [
    "Resume"
   ]
  },
  {
   "cell_type": "code",
   "execution_count": null,
   "metadata": {},
   "outputs": [],
   "source": [
    "import numpy as np \n",
    "\n",
    "\n",
    "#cree un np :\n",
    "print ('----------------------------- Creation np')\n",
    "a = np.array ([[1,3,5,7],[2,4,6,8]])  #cree a partir d une liste\n",
    "print ('arange',np.arange(0,10,4))  #range np\n",
    "print ('linspace',np.linspace(0,8,11))  #du start a end avec n nombre\n",
    "\n",
    "\n",
    "#cree un special np type :\n",
    "#print ('----------------------------- Creation np special ')\n",
    "#print (np.ones((3,4)))      #table de 1\n",
    "#print (np.zeros((3,2)))  #table de 0\n",
    "#print (np.eye(3) )  #table diagonale\n",
    "#print (np.diag(np.ones((2)), -1))   #table diagonale\n",
    "\n",
    "\n",
    "#modifie un np :\n",
    "print ('----------------------------- Modifier un np')\n",
    "print (a.shape) #attribut forme\n",
    "print ('a\\n', a)\n",
    "a = a.transpose() #col = ligne et ligne = col\n",
    "print ('a\\n', a)\n",
    "print (a.shape) #attribut forme\n",
    "a = a.reshape(2,4)  #determine la forme \n",
    "#a = a[np.newaxis, :] #ajoute un dimension au tableau\n",
    "\n",
    "\n",
    "#Slicing \n",
    "print ('----------------------------- Slicing de np')\n",
    "print ('a')\n",
    "print (a)\n",
    "print('\\na[:1] la ligne ')\n",
    "print (a[:1])\n",
    "print('\\na[:][:2] la colonne ')\n",
    "print (a[0:,2])\n",
    "print('\\na[1][1] les deux')\n",
    "print (a[1][1])\n",
    "print ('Slicing contidionel : a[(a>2) & (a<6)]')\n",
    "print (a[(a>2) & (a<6)])\n",
    "\n",
    "#fonction Statistique\n",
    "a.mean() # moyenne sur tout le tableau\n",
    "a.mean(axis = 0) # moyenne sur les colonnes\n",
    "a.mean(axis = 1) # moyenne sur les lignes\n",
    "#Il existe plusieurs autres méthodes qui se comportent comme la méthode mean, tel que:\n",
    "a.sum ()# - pour calculer la somme d'un tableau\n",
    "a.std ()# - calcul l'écart type\n",
    "a.min ()# - trouve l'élément minimum\n",
    "a.max ()# - trouve l'élément maximum\n",
    "\n",
    "# fonction random\n",
    "print (np.random.random((3,2))) #des valeurs aléatoires\n",
    "print (np.random.randint(1,100,10)) #valeurs int aléatoires\n",
    "np.random.randn(2,3) #distribution normale ou gossiene\n",
    "np.random.rand(4,3) #distribution uniforme\n",
    "\n",
    "#separe/reunis des np :\n",
    "print ('----------------------------- separe/reunis des np')\n",
    "a,b,c = np.array_split(np.arange(1,31),3) #split en n (ici en 3 a,b,c)\n",
    "print ('a  ',a)\n",
    "print ('b  ',b)\n",
    "print ('c  ',c)\n",
    "d = np.concatenate((a,b,c)).reshape(5,6) #concat\"\n",
    "print ('d \\n',d)\n",
    "\n",
    "#attribut :\n",
    "print ('----------------------------- attribut np')\n",
    "print ('ndim\\n',a.ndim)\n",
    "print ('shape\\n',a.shape)\n",
    "print ('size\\n',a.size)\n",
    "print ('dtype\\n',a.dtype)\n",
    "\n",
    "#fonction :\n",
    "#Redimensionner: reshape, ravel, resize, transpose\n",
    "#Empiler : column_stack, concatenate, vstack\n",
    "#Fractionner : array_split, vsplit\n",
    "#Ordonner : sort, argmax, argmin, argsort, max, min\n"
   ]
  },
  {
   "cell_type": "code",
   "execution_count": null,
   "metadata": {},
   "outputs": [],
   "source": []
  },
  {
   "cell_type": "code",
   "execution_count": null,
   "metadata": {},
   "outputs": [],
   "source": []
  },
  {
   "cell_type": "markdown",
   "metadata": {},
   "source": [
    "Cours : "
   ]
  },
  {
   "cell_type": "markdown",
   "metadata": {},
   "source": [
    "Création d'un Numpy array"
   ]
  },
  {
   "cell_type": "code",
   "execution_count": 5,
   "metadata": {},
   "outputs": [
    {
     "name": "stdout",
     "output_type": "stream",
     "text": [
      "table de type <class 'numpy.ndarray'>\n",
      "\n",
      "table unidimentionnel ou vecteur\n",
      " [0 1 2 3 4 5 6 7 8]\n",
      "\n",
      "table bidimentionnel ou matrice\n",
      " [[1 2 3]\n",
      " [0 4 5]\n",
      " [6 7 8]]\n"
     ]
    }
   ],
   "source": [
    "import numpy as np \n",
    "\n",
    "#creation de \n",
    "my_vect  = np.array (list(range(0,9))) \n",
    "my_mat = np.array ([[1,2,3],[0,4,5],[6,7,8]])\n",
    "\n",
    "\n",
    "print ('table de type',type (my_vect )) #table de type nd array\n",
    "\n",
    "print ('\\ntable unidimentionnel ou vecteur\\n',my_vect  )\n",
    "print ('\\ntable bidimentionnel ou matrice\\n',my_mat )\n"
   ]
  },
  {
   "cell_type": "code",
   "execution_count": 8,
   "metadata": {},
   "outputs": [
    {
     "name": "stdout",
     "output_type": "stream",
     "text": [
      "[ 1  3  8  9 12 15]\n",
      "fct reshape\n",
      "[[ 1  3  8]\n",
      " [ 9 12 15]]\n"
     ]
    }
   ],
   "source": [
    "# fct reshape()\n",
    "\n",
    "a = np.array([1,3,8,9,12,15])\n",
    "print (a)\n",
    "a=  a.reshape(2,3)\n",
    "print('fct reshape retourne une nouvelle forme de la table ')\n",
    "print (a)\n"
   ]
  },
  {
   "cell_type": "code",
   "execution_count": 21,
   "metadata": {},
   "outputs": [
    {
     "name": "stdout",
     "output_type": "stream",
     "text": [
      "la fct arange est identique a la fct range mais \n",
      "       pour numpy tres simple d utilisation et associé \n",
      "       a la fonction reshape().\n",
      "       Lorsque la fonction arange() est utilisée \n",
      "       avec des arguments réels (floats)\n",
      "       \n"
     ]
    },
    {
     "data": {
      "text/plain": [
       "array([ 0,  2,  4,  6,  8, 10, 12, 14, 16, 18])"
      ]
     },
     "execution_count": 21,
     "metadata": {},
     "output_type": "execute_result"
    }
   ],
   "source": [
    "#fct arange \n",
    "\n",
    "print (\"\"\"la fct arange est identique a la fct range mais \n",
    "       pour numpy tres simple d utilisation et associé \n",
    "       a la fonction reshape().\n",
    "       Lorsque la fonction arange() est utilisée \n",
    "       avec des arguments réels (floats)\n",
    "       \"\"\")\n",
    "np.arange(0, 20, 2)"
   ]
  },
  {
   "cell_type": "code",
   "execution_count": 24,
   "metadata": {},
   "outputs": [
    {
     "name": "stdout",
     "output_type": "stream",
     "text": [
      "permet de partir de 0 (start) a 2 (end) et d avoir 9 elements\n"
     ]
    },
    {
     "data": {
      "text/plain": [
       "array([0.  , 0.25, 0.5 , 0.75, 1.  , 1.25, 1.5 , 1.75, 2.  ])"
      ]
     },
     "execution_count": 24,
     "metadata": {},
     "output_type": "execute_result"
    }
   ],
   "source": [
    "#fct np.linspace()\n",
    "\n",
    "print (\"\"\"permet de partir de 0 (start) a 2 (end) et d avoir 9 elements\"\"\")\n",
    "\n",
    "np.linspace( 0, 2, 9 )"
   ]
  },
  {
   "cell_type": "code",
   "execution_count": 53,
   "metadata": {},
   "outputs": [
    {
     "name": "stdout",
     "output_type": "stream",
     "text": [
      "-----------------------------------------\n",
      "fonction   np.ones((ligne,colone)) \n",
      "np.ones((n,p)) crée un array de dimension  n×p  \n",
      "        rempli de 1. \n",
      "        C est un tupple \n",
      "\n",
      "\n",
      "\n",
      "-----------------------------------------\n",
      "fonction  np.zeros((ligne,colone,multiplier))  \n",
      "np.zeros((n,p,l)) crée un array de dimension  \n",
      "        n×p×l rempli de 0. \n",
      "\n",
      "[[0. 0.]\n",
      " [0. 0.]\n",
      " [0. 0.]]\n",
      "\n",
      "\n",
      "-----------------------------------------\n",
      "fonction  np.eye(n)  \n",
      "np.eye(n) crée un array de la forme \n",
      "d'une matrice identité de dimension  n×nn×n , \n",
      "c'est à dire un tableau où toutes les valeurs \n",
      "sont nulles sauf sur la diagonale, où elles valent 1.\n",
      "\n",
      "[[1. 0. 0.]\n",
      " [0. 1. 0.]\n",
      " [0. 0. 1.]]\n",
      "\n",
      "\n",
      "-----------------------------------------\n",
      "fonction  np.diag(a, i)   \n",
      "np.diag(a, i) crée un array à partir \n",
      "d'une séquence a (liste, tuple, array unidimensionnel...) \n",
      "en place a sur la i-ème diagonale de la matrice \n",
      "(0 étant la diagonale principale,\n",
      " -1 celle en dessous, 1 celle au dessus etc..)\n",
      "\n",
      "diagonale haut \n",
      " [[0. 1. 0.]\n",
      " [0. 0. 1.]\n",
      " [0. 0. 0.]]\n",
      "\n",
      "diagonale bas \n",
      " [[0. 0. 0.]\n",
      " [1. 0. 0.]\n",
      " [0. 1. 0.]]\n"
     ]
    }
   ],
   "source": [
    "print ('-----------------------------------------')\n",
    "print ('fonction   np.ones((ligne,colone)) ')\n",
    "\n",
    "print(\"\"\"np.ones((n,p)) crée un array de dimension  n×p  \n",
    "        rempli de 1. \n",
    "        C est un tupple \\n\"\"\")\n",
    "np.ones((3,4))\n",
    "\n",
    "\n",
    "print ('\\n')\n",
    "print ('-----------------------------------------')\n",
    "print ('fonction  np.zeros((ligne,colone,multiplier))  ')\n",
    "\n",
    "print(\"\"\"np.zeros((n,p,l)) crée un array de dimension  \n",
    "        n×p×l rempli de 0. \\n\"\"\")\n",
    "\n",
    "#print (np.zeros((3,2,4)) )\n",
    "print (np.zeros((3,2)) )\n",
    "\n",
    "\n",
    "print ('\\n')\n",
    "print ('-----------------------------------------')\n",
    "print ('fonction  np.eye(n)  ')\n",
    "\n",
    "print(\"\"\"np.eye(n) crée un array de la forme \n",
    "d'une matrice identité de dimension  n×nn×n , \n",
    "c'est à dire un tableau où toutes les valeurs \n",
    "sont nulles sauf sur la diagonale, où elles valent 1.\\n\"\"\",)\n",
    "\n",
    "print (np.eye(3) )\n",
    "\n",
    "\n",
    "print ('\\n')\n",
    "print ('-----------------------------------------')\n",
    "print ('fonction  np.diag(a, i)   ')\n",
    "\n",
    "print(\"\"\"np.diag(a, i) crée un array à partir \n",
    "d'une séquence a (liste, tuple, array unidimensionnel...) \n",
    "en place a sur la i-ème diagonale de la matrice \n",
    "(0 étant la diagonale principale,\n",
    " -1 celle en dessous, 1 celle au dessus etc..)\\n\"\"\",)\n",
    "\n",
    "print ('diagonale haut \\n', np.diag(np.ones((2)), 1)) #table de 3 diag haut\n",
    "print ('\\ndiagonale bas \\n', np.diag(np.ones((2)), -1)) #table de 3 diag haut\n"
   ]
  },
  {
   "cell_type": "markdown",
   "metadata": {},
   "source": [
    "np.random"
   ]
  },
  {
   "cell_type": "code",
   "execution_count": 89,
   "metadata": {},
   "outputs": [
    {
     "name": "stdout",
     "output_type": "stream",
     "text": [
      "-----------------------------------------\n",
      "fonction  np.random.random((ligne,colone))    \n",
      "np.random.random((n,p)) crée un array \n",
      "        avec des valeurs aléatoires.\n",
      "\n",
      "[[0.43269585 0.03398714]\n",
      " [0.36793716 0.86259236]\n",
      " [0.97508841 0.30715103]]\n",
      "\n",
      "\n",
      "-----------------------------------------\n",
      "fonction  np.random.randint((start,stop, nombre))    \n",
      "np.random.randint((n,p,nbr)) crée un array \n",
      "        avec des valeurs int aléatoires.\n",
      "\n",
      "[67 16 60 61 37  4 57 62 20 68]\n",
      "\n",
      "\n",
      "-----------------------------------------\n",
      "fonction  np.random.randn((ligne,cologne))    \n",
      "cree un array avec unedistribution normale ou gossiene\n",
      "chiffre prochede 0 on plus de chance de sortir\n",
      "\n",
      "\n",
      "-----------------------------------------\n",
      "fonction  np.random.rand((ligne,cologne))    \n",
      "cree un array avec unedistribution uniforme\n",
      "chiffre on tous la mm chance de sortir\n"
     ]
    },
    {
     "data": {
      "text/plain": [
       "array([[0.21529007, 0.64339917, 0.3763757 ],\n",
       "       [0.31307726, 0.59177811, 0.42925652],\n",
       "       [0.48780063, 0.92888849, 0.61806359],\n",
       "       [0.67854153, 0.34360285, 0.62077165]])"
      ]
     },
     "execution_count": 89,
     "metadata": {},
     "output_type": "execute_result"
    }
   ],
   "source": [
    "print ('-----------------------------------------')\n",
    "print ('fonction  np.random.random((ligne,colone))    ')\n",
    "\n",
    "print(\"\"\"np.random.random((n,p)) crée un array \n",
    "        avec des valeurs aléatoires.\\n\"\"\",)\n",
    "print (np.random.random((3,2)))\n",
    "\n",
    "print ('\\n')\n",
    "print ('-----------------------------------------')\n",
    "print ('fonction  np.random.randint((start,stop, nombre))    ')\n",
    "print(\"\"\"np.random.randint((n,p,nbr)) crée un array \n",
    "        avec des valeurs int aléatoires.\\n\"\"\",)\n",
    "print (np.random.randint(1,100,10))\n",
    "\n",
    "\n",
    "print ('\\n')\n",
    "print ('-----------------------------------------')\n",
    "print ('fonction  np.random.randn((ligne,cologne))    ')\n",
    "print ('cree un array avec unedistribution normale ou gossiene')\n",
    "print ('chiffre prochede 0 on plus de chance de sortir')\n",
    "np.random.randn(2,3)\n",
    "\n",
    "print ('\\n')\n",
    "print ('-----------------------------------------')\n",
    "print ('fonction  np.random.rand((ligne,cologne))    ')\n",
    "print ('cree un array avec unedistribution uniforme')\n",
    "print ('chiffre on tous la mm chance de sortir')\n",
    "np.random.rand(4,3)"
   ]
  },
  {
   "cell_type": "markdown",
   "metadata": {},
   "source": [
    "Attributs et fonctions"
   ]
  },
  {
   "cell_type": "markdown",
   "metadata": {},
   "source": [
    "Les principaux attributs permettant de décrire un tableau de type ndarray sont :\n",
    "\n",
    "ndarray.ndim: renvoie le nombre de dimensions de l' array. En langage Python le nombre de dimension est appelé le rang.\n",
    "\n",
    "ndarray.shape: renvoie les dimensions de l'array, ie. la taille de l'array dans chaque dimension.\n",
    "\n",
    "ndarray.size : renvoie le nombre total d'éléments de l'array.\n",
    "\n",
    "ndarray.dtype : un objet décrivant le type des éléments de l'array."
   ]
  },
  {
   "cell_type": "markdown",
   "metadata": {},
   "source": [
    "Il existe dans Numpy des fonctions pré-définies faites pour la manipulation de tableaux array. Voici une liste en reprenant les principales :\n",
    "\n",
    "Redimensionner: reshape, ravel, resize, transpose\n",
    "Empiler : column_stack, concatenate, vstack\n",
    "Fractionner : array_split, vsplit\n",
    "Ordonner : sort, argmax, argmin, argsort, max, min"
   ]
  },
  {
   "cell_type": "code",
   "execution_count": null,
   "metadata": {},
   "outputs": [],
   "source": []
  },
  {
   "cell_type": "code",
   "execution_count": 86,
   "metadata": {},
   "outputs": [
    {
     "name": "stdout",
     "output_type": "stream",
     "text": [
      "Slicing contidionel : M[(M>20) & (M<40)]\n"
     ]
    },
    {
     "data": {
      "text/plain": [
       "array([21, 35, 39, 28, 22, 23])"
      ]
     },
     "execution_count": 86,
     "metadata": {},
     "output_type": "execute_result"
    }
   ],
   "source": [
    "#Slicing conditionel\n",
    "M = np.array([[21,4,35,60,18],[1,12,7,39,28],[22,86,71,5,23]])\n",
    "#Insérez votre code ici\n",
    "print ('Slicing contidionel : M[(M>20) & (M<40)]')\n",
    "M[(M>20) & (M<40)]"
   ]
  },
  {
   "cell_type": "code",
   "execution_count": 106,
   "metadata": {},
   "outputs": [
    {
     "name": "stdout",
     "output_type": "stream",
     "text": [
      "M\n",
      "[[21  4 35 60 18]\n",
      " [ 1 12  7 39 28]\n",
      " [22 86 71  5 23]]\n",
      "\n",
      "M[:1] la ligne \n",
      "[[21  4 35 60 18]]\n",
      "\n",
      "M[:][:2] la colonne \n",
      "[35  7 71]\n",
      "\n",
      "M[1][1] les deux\n",
      "12\n"
     ]
    }
   ],
   "source": [
    "#Slicing\n",
    "#Le symbole : permet de sélectionner tous les éléments \n",
    "#à partir de l'index de départ jusqu'à l'indice de fin exclu.\n",
    "print ('M')\n",
    "print (M)\n",
    "print('\\nM[:1] la ligne ')\n",
    "print (M[:1])\n",
    "\n",
    "print('\\nM[:][:2] la colonne ')\n",
    "print (M[0:,2])\n",
    "\n",
    "print('\\nM[1][1] les deux')\n",
    "print (M[1][1])"
   ]
  },
  {
   "cell_type": "code",
   "execution_count": 64,
   "metadata": {},
   "outputs": [
    {
     "name": "stdout",
     "output_type": "stream",
     "text": [
      "fct split et concatenate :\n",
      "\n",
      "a   [ 1  2  3  4  5  6  7  8  9 10]\n",
      "b   [11 12 13 14 15 16 17 18 19 20]\n",
      "c   [21 22 23 24 25 26 27 28 29 30]\n",
      "d \n",
      " [[ 1  2  3]\n",
      " [ 4  5  6]\n",
      " [ 7  8  9]\n",
      " [10 11 12]\n",
      " [13 14 15]\n",
      " [16 17 18]\n",
      " [19 20 21]\n",
      " [22 23 24]\n",
      " [25 26 27]\n",
      " [28 29 30]]\n"
     ]
    }
   ],
   "source": [
    "print ('fct split et concatenate :\\n')\n",
    "a,b,c = np.array_split(np.arange(1,31),3)\n",
    "print ('a  ',a)\n",
    "print ('b  ',b)\n",
    "print ('c  ',c)\n",
    "\n",
    "d = np.concatenate((a,b,c)).reshape(10,3)\n",
    "print ('d \\n',d)"
   ]
  },
  {
   "cell_type": "markdown",
   "metadata": {},
   "source": [
    "operation arithemetique"
   ]
  },
  {
   "cell_type": "code",
   "execution_count": 76,
   "metadata": {},
   "outputs": [
    {
     "name": "stdout",
     "output_type": "stream",
     "text": [
      "addition \n",
      "[10 20 30 40]\n",
      "[1 2 3 4]\n",
      "a-b =  [ 9 18 27 36]\n",
      "\n",
      "mutliplication \n",
      "[[3 4]\n",
      " [0 0]]\n",
      "\n",
      " [[5 2]\n",
      " [1 0]]\n",
      "\n",
      "divition \n",
      "A*3 = \n",
      " [[3 6]\n",
      " [0 3]]\n"
     ]
    }
   ],
   "source": [
    "#addition \n",
    "print ('addition ')\n",
    "a=np.array ([10,20,30,40])\n",
    "b=np.arange(1,5)\n",
    "\n",
    "c = a-b\n",
    "print (a)\n",
    "print (b)\n",
    "print ('a-b = ',c)\n",
    "\n",
    "print ('\\nmutliplication ')\n",
    "#multiplication\n",
    "A = np.array( [[1,2], [0,1]] )\n",
    "B = np.array( [[3,2], [1,0]] )\n",
    "print(A*B)\n",
    "\n",
    "print('\\n',np.dot(A,B))\n",
    "\n",
    "\n",
    "print ('\\ndivition ')\n",
    "print ('A*3 = \\n', A*3)\n"
   ]
  },
  {
   "cell_type": "code",
   "execution_count": 78,
   "metadata": {},
   "outputs": [
    {
     "name": "stdout",
     "output_type": "stream",
     "text": [
      "[[0. 1. 2. 3. 4.]\n",
      " [1. 0. 1. 2. 3.]\n",
      " [2. 1. 0. 1. 2.]\n",
      " [3. 2. 1. 0. 1.]\n",
      " [4. 3. 2. 1. 0.]]\n"
     ]
    }
   ],
   "source": [
    "mat = np.zeros(5)\n",
    "a = np.diag(np.ones(4),-1)\n",
    "b = np.diag(np.ones(3), -2)*2\n",
    "c = np.diag(np.ones(2), -3)*3\n",
    "d = np.diag(np.ones(1),-4)*4 \n",
    "\n",
    "mat = mat+a+b+c+d\n",
    "mat = mat + np.transpose(mat)\n",
    "\n",
    "print(mat)"
   ]
  },
  {
   "cell_type": "markdown",
   "metadata": {},
   "source": [
    "Broadcasting"
   ]
  },
  {
   "cell_type": "markdown",
   "metadata": {},
   "source": [
    "Lorsque l'on effectue des opérations ou que l'on exécute des fonctions sur des tableaux de dimensions différentes, NumPy effectue dans certains ca ce que l'on appelle du Broadcasting pour essayer de faire correspondre les éléments.\n",
    "\n",
    "Nous avons déjà vu le Broadcasting à l'oeuvre plus haut lors des opérations sur les arrays. Lorsque l'on rajoute une constante c à une matrice M de taille  3×33×3  par exemple, on peut imaginer que l'opération se fait entre la matrice M et une matrice  3×33×3  remplie de c.\n",
    "\n",
    "Les règles du Broadcasting sont les suivantes:\n",
    "\n",
    "Deux arrays sont compatibles (broadcastable) si, pour chaque dimension, soit les tailles sont égales, soit l’une d’elles est exactement égale à 1. Par exemple, (6, 3) et (1, 3) sont des formats compatibles, (6, 3) et (6, 1) également, mais (6, 3) et (3, 1) non.\n",
    "\n",
    "Si un arrays a une dimension de taille 1, ce dernier sera reproduit autant de fois que nécessaire le long de cette dimension pour attendre la taille de l’autre array. Par exemple. un tableau (4, 1, 2) pourra être transformé en tableau (4, 5 2) en le dupliquant 5 fois le long de la deuxième dimension.\n",
    "\n",
    "Si deux arrays n'ont pas le même nombre de dimensions, alors la dimension de l'array le plus petit sera précédée d’autant de \"1\" que nécessaire pour atteindre le même rang. Par exemple, si l'on souhaite multiplier deux tableaux de dimensions (7, 2, 1) et (4,): La dimension du second deviendra (1, 1, 4), puis celle du premier (7, 2, 4).\n",
    "\n",
    "Voici quelques exemples du fonctionnement du broadcasting :"
   ]
  },
  {
   "cell_type": "code",
   "execution_count": 83,
   "metadata": {},
   "outputs": [
    {
     "name": "stdout",
     "output_type": "stream",
     "text": [
      "fct newaxis \n",
      "pour ajouter une dimention a notre table\n",
      "(5,)\n",
      "(1, 5)\n"
     ]
    }
   ],
   "source": [
    "\n",
    "print ('fct newaxis \\npour ajouter une dimention a notre table')\n",
    "a = np.arange(5)\n",
    "print (a.shape)\n",
    "\n",
    "a = a[np.newaxis, :]\n",
    "print (a.shape)"
   ]
  },
  {
   "cell_type": "markdown",
   "metadata": {},
   "source": [
    "Les méthodes statistiques"
   ]
  },
  {
   "cell_type": "markdown",
   "metadata": {},
   "source": [
    "En plus des opérations mathématiques courantes, NumPy dispose également de plusieurs méthodes que vous pouvez utiliser pour des calculs plus complexes sur des tableaux.\n",
    "Exemple :\n",
    "\n",
    "mon_array.mean() # moyenne sur tout le tableau\n",
    "mon_array.mean(axis = 0) # moyenne sur les colonnes\n",
    "mon_array.mean(axis = 1) # moyenne sur les lignes\n",
    "Il existe plusieurs autres méthodes qui se comportent comme la méthode mean, tel que:\n",
    "sum - pour calculer la somme d'un tableau\n",
    "std - calcul l'écart type\n",
    "min - trouve l'élément minimum\n",
    "max - trouve l'élément maximum"
   ]
  },
  {
   "cell_type": "code",
   "execution_count": 139,
   "metadata": {},
   "outputs": [
    {
     "name": "stdout",
     "output_type": "stream",
     "text": [
      "----------------------------- Creation np\n",
      "arange [0 4 8]\n",
      "linspace [0.  0.8 1.6 2.4 3.2 4.  4.8 5.6 6.4 7.2 8. ]\n",
      "----------------------------- Modifier un np\n",
      "(2, 4)\n",
      "a\n",
      " [[1 3 5 7]\n",
      " [2 4 6 8]]\n",
      "a\n",
      " [[1 2]\n",
      " [3 4]\n",
      " [5 6]\n",
      " [7 8]]\n",
      "(4, 2)\n",
      "----------------------------- Slicing de np\n",
      "a\n",
      "[[1 2 3 4]\n",
      " [5 6 7 8]]\n",
      "\n",
      "a[:1] la ligne \n",
      "[[1 2 3 4]]\n",
      "\n",
      "a[:][:2] la colonne \n",
      "[3 7]\n",
      "\n",
      "a[1][1] les deux\n",
      "6\n",
      "Slicing contidionel : a[(a>2) & (a<6)]\n",
      "[3 4 5]\n",
      "[[0.33265852 0.85205727]\n",
      " [0.37749793 0.94090772]\n",
      " [0.15018178 0.3922715 ]]\n",
      "[70 37 11 38 62 12 57 63  8 80]\n",
      "----------------------------- separe/reunis des np\n",
      "a   [ 1  2  3  4  5  6  7  8  9 10]\n",
      "b   [11 12 13 14 15 16 17 18 19 20]\n",
      "c   [21 22 23 24 25 26 27 28 29 30]\n",
      "d \n",
      " [[ 1  2  3  4  5  6]\n",
      " [ 7  8  9 10 11 12]\n",
      " [13 14 15 16 17 18]\n",
      " [19 20 21 22 23 24]\n",
      " [25 26 27 28 29 30]]\n",
      "----------------------------- attribut np\n",
      "ndim\n",
      " 1\n",
      "shape\n",
      " (10,)\n",
      "size\n",
      " 10\n",
      "dtype\n",
      " int32\n"
     ]
    }
   ],
   "source": [
    "import numpy as np \n",
    "\n",
    "\n",
    "#cree un np :\n",
    "print ('----------------------------- Creation np')\n",
    "a = np.array ([[1,3,5,7],[2,4,6,8]])  #cree a partir d une liste\n",
    "print ('arange',np.arange(0,10,4))  #range np\n",
    "print ('linspace',np.linspace(0,8,11))  #du start a end avec n nombre\n",
    "\n",
    "\n",
    "#cree un special np type :\n",
    "#print ('----------------------------- Creation np special ')\n",
    "#print (np.ones((3,4)))      #table de 1\n",
    "#print (np.zeros((3,2)))  #table de 0\n",
    "#print (np.eye(3) )  #table diagonale\n",
    "#print (np.diag(np.ones((2)), -1))   #table diagonale\n",
    "\n",
    "\n",
    "#modifie un np :\n",
    "print ('----------------------------- Modifier un np')\n",
    "print (a.shape) #attribut forme\n",
    "print ('a\\n', a)\n",
    "a = a.transpose() #col = ligne et ligne = col\n",
    "print ('a\\n', a)\n",
    "print (a.shape) #attribut forme\n",
    "a = a.reshape(2,4)  #determine la forme \n",
    "#a = a[np.newaxis, :] #ajoute un dimension au tableau\n",
    "\n",
    "\n",
    "#Slicing \n",
    "print ('----------------------------- Slicing de np')\n",
    "print ('a')\n",
    "print (a)\n",
    "print('\\na[:1] la ligne ')\n",
    "print (a[:1])\n",
    "print('\\na[:][:2] la colonne ')\n",
    "print (a[0:,2])\n",
    "print('\\na[1][1] les deux')\n",
    "print (a[1][1])\n",
    "print ('Slicing contidionel : a[(a>2) & (a<6)]')\n",
    "print (a[(a>2) & (a<6)])\n",
    "\n",
    "#fonction Statistique\n",
    "a.mean() # moyenne sur tout le tableau\n",
    "a.mean(axis = 0) # moyenne sur les colonnes\n",
    "a.mean(axis = 1) # moyenne sur les lignes\n",
    "#Il existe plusieurs autres méthodes qui se comportent comme la méthode mean, tel que:\n",
    "a.sum ()# - pour calculer la somme d'un tableau\n",
    "a.std ()# - calcul l'écart type\n",
    "a.min ()# - trouve l'élément minimum\n",
    "a.max ()# - trouve l'élément maximum\n",
    "\n",
    "# fonction random\n",
    "print (np.random.random((3,2))) #des valeurs aléatoires\n",
    "print (np.random.randint(1,100,10)) #valeurs int aléatoires\n",
    "np.random.randn(2,3) #distribution normale ou gossiene\n",
    "np.random.rand(4,3) #distribution uniforme\n",
    "\n",
    "#separe/reunis des np :\n",
    "print ('----------------------------- separe/reunis des np')\n",
    "a,b,c = np.array_split(np.arange(1,31),3) #split en n (ici en 3 a,b,c)\n",
    "print ('a  ',a)\n",
    "print ('b  ',b)\n",
    "print ('c  ',c)\n",
    "d = np.concatenate((a,b,c)).reshape(5,6) #concat\"\n",
    "print ('d \\n',d)\n",
    "\n",
    "#attribut :\n",
    "print ('----------------------------- attribut np')\n",
    "print ('ndim\\n',a.ndim)\n",
    "print ('shape\\n',a.shape)\n",
    "print ('size\\n',a.size)\n",
    "print ('dtype\\n',a.dtype)\n",
    "\n",
    "#fonction :\n",
    "#Redimensionner: reshape, ravel, resize, transpose\n",
    "#Empiler : column_stack, concatenate, vstack\n",
    "#Fractionner : array_split, vsplit\n",
    "#Ordonner : sort, argmax, argmin, argsort, max, min\n",
    "\n",
    "\n",
    "\n",
    "\n"
   ]
  }
 ],
 "metadata": {
  "kernelspec": {
   "display_name": "Python 3",
   "language": "python",
   "name": "python3"
  },
  "language_info": {
   "codemirror_mode": {
    "name": "ipython",
    "version": 3
   },
   "file_extension": ".py",
   "mimetype": "text/x-python",
   "name": "python",
   "nbconvert_exporter": "python",
   "pygments_lexer": "ipython3",
   "version": "3.7.6"
  }
 },
 "nbformat": 4,
 "nbformat_minor": 4
}
