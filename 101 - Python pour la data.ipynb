{
 "cells": [
  {
   "cell_type": "markdown",
   "metadata": {},
   "source": [
    "#module "
   ]
  },
  {
   "cell_type": "markdown",
   "metadata": {},
   "source": [
    "#Python pour la data-science"
   ]
  },
  {
   "cell_type": "markdown",
   "metadata": {},
   "source": [
    "Introduction\n",
    "Python est un langage orienté objet bénéficiant d'une syntaxe précise et efficace. Il est couramment utilisé par les data-scientists et très apprécié pour ses bibliothèques d'analyse numérique et de calcul scientifique (numpy, pandas), de visualisation (matplotlib), mais surtout grâce à sa puissante librairie dédiée au Machine Learning scikit-learn.\n",
    "\n",
    "Python est aujourd'hui un des langages les plus utilisés en data-science du fait de son style de programmation proche de ce que recherche un analyste statisticien ou un ingénieur. Il permet d'exprimer dans une syntaxe concise des concepts mathématiques tels que les vecteurs ou les matrices et les opérations associées. Il se rapproche en ce sens des logiciels de calcul scientifique comme Matlab. Python ne se limite pas qu'à cela et possède des propriétés indispensables pour une intégration en entreprise, s'interfaçant très bien avec les services web et les bases de données.\n"
   ]
  },
  {
   "cell_type": "markdown",
   "metadata": {},
   "source": [
    "Exemple : Indexation avec Python\n",
    "\n",
    "liste = [4, 5, 6]\n",
    "liste[0] # vaut 4\n",
    "Les marques de ponctuation sont simples, mais importantes. Vous le verrez par la suite, certains caractères sont utilisés pour signifier des déclarations de variable, indiquer des commentaires ou encore séparer des blocs d'instructions. L'objectif principal du langage Python étant la productivité, ces éléments syntaxiques sont réduits au plus petit nombre possible et vous découvrirez sûrement le confort de cette légèreté au cours des formations.\n",
    "\n",
    "Les Variables\n",
    "\n",
    "En créant une variable sur Python, l'ordinateur alloue un emplacement dans la mémoire vive. À cet emplacement se situe la valeur de la variable créée. Le nom d'une variable doit commencer par une lettre ou un tiret du bas (\"_\"), il peut contenir des chiffres mais seulement à partir du deuxième caractère du nom de la variable.\n",
    "\n",
    "La portée d’une variable, c’est-à-dire la portion de code où elle est définie, s’étend depuis sa déclaration jusqu’à la fin du programme ou de la fonction où elle est définie (à moins qu'elle ait été spécifiquement détruite, avec l'instruction del).\n",
    "\n",
    "\n",
    "L'assignation d'une valeur à une variable suit la syntaxe suivante:\n",
    "\n",
    "ma_variable = valeur\n",
    "L'interpréteur de Python est capable de détecter si le nom ma_variable est déjà utilisé et décide s'il doit créer une nouvelle variable, ou la modifier."
   ]
  },
  {
   "cell_type": "markdown",
   "metadata": {},
   "source": [
    "La notion de type\n",
    "\n",
    "Python est un langage que l'on appelle non typé. L'interpréteur devine le type de la variable en regardant sa valeur : c'est ce que l'on appelle le duck typing. Cela permet de donner beaucoup de flexibilité au langage. Cela évite également d'imposer la déclaration du type au moment de la création de la variable, lorsque souvent, il sera transparent dans son utilisation.\n",
    "\n",
    "La fonction type permet d'obtenir la classe de l'objet considéré. Les variables construites dans la question précédente ont pour classe des types de bases, que nous allons explorer par la suite.\n",
    "\n",
    "Utiliser les fonctions type et print pour afficher les types des différentes variables définies à l'étape précédente"
   ]
  },
  {
   "cell_type": "code",
   "execution_count": 3,
   "metadata": {},
   "outputs": [],
   "source": [
    "list(range(0,20)) #exemple de list\n",
    "\n",
    "dict = {\"cle1\" : \"valeur1\", \"cle2\" : 2} #exemple de dict\n",
    "#carte_id.keys() #Afficher les clés du dictionnaire carte_id\n",
    "#carte_id.values() #Afficher les clés du dictionnaire carte_id"
   ]
  },
  {
   "cell_type": "markdown",
   "metadata": {},
   "source": [
    "Les variables indexables\n",
    "\n",
    "Les listes, dictionnaires, tuples, ou chaînes de caractères sont des variables \"indexables\", dont on peut extraire une partie des élements.\n",
    "\n",
    "L'accès aux éléments d'une variables de type indexable, ainsi que la modification et la suppression, quand celles-ci sont possibles, se font par l'intermédiaire de crochets [ ] en indiquant :\n",
    "Pour les types list, tuple, str : l'indice de la position voulue qui commence toujours par 0.\n",
    "Pour les dict : la clé.\n",
    "Exemples:\n",
    "\n",
    "ma_liste[2], t(35), mon_dict[\"clé2\"]\n",
    "Notons que chaque type indexable a son symbole spécifique pour sa création :\n",
    "\n",
    "pour une liste, on utilise les crochets : [ ]  ( ou list() )\n",
    "pour un dictionnaire, les accolades : { }  ( ou dict() )\n",
    "pour un tuple, les parenthèses : ( )  ( ou tuple() )\n",
    "pour une chaîne de caractères, les guillemets : \" \", ' '"
   ]
  },
  {
   "cell_type": "code",
   "execution_count": null,
   "metadata": {},
   "outputs": [],
   "source": []
  },
  {
   "cell_type": "code",
   "execution_count": null,
   "metadata": {},
   "outputs": [],
   "source": []
  },
  {
   "cell_type": "code",
   "execution_count": null,
   "metadata": {},
   "outputs": [],
   "source": []
  },
  {
   "cell_type": "code",
   "execution_count": null,
   "metadata": {},
   "outputs": [],
   "source": []
  },
  {
   "cell_type": "code",
   "execution_count": null,
   "metadata": {},
   "outputs": [],
   "source": []
  }
 ],
 "metadata": {
  "kernelspec": {
   "display_name": "Python 3",
   "language": "python",
   "name": "python3"
  },
  "language_info": {
   "codemirror_mode": {
    "name": "ipython",
    "version": 3
   },
   "file_extension": ".py",
   "mimetype": "text/x-python",
   "name": "python",
   "nbconvert_exporter": "python",
   "pygments_lexer": "ipython3",
   "version": "3.7.6"
  }
 },
 "nbformat": 4,
 "nbformat_minor": 4
}
